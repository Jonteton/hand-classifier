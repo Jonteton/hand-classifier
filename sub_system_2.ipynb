{
 "cells": [
  {
   "cell_type": "code",
   "execution_count": 22,
   "metadata": {},
   "outputs": [],
   "source": [
    "#imports\n",
    "import pandas as pd\n",
    "import numpy as np\n",
    "from pandas import ExcelWriter\n",
    "from pandas import ExcelFile\n",
    "import sklearn as sk\n",
    "from sklearn.datasets import make_classification\n",
    "import scikitplot as skplt\n",
    "import tensorflow as tf\n",
    "from sklearn.model_selection import KFold\n",
    "from tensorflow.keras.models import Sequential\n",
    "import tensorflow as tf\n",
    "from tensorflow.keras.layers import Dense, Dropout, Activation, Flatten, Conv2D, MaxPooling2D, Softmax\n",
    "from tensorflow.keras.wrappers.scikit_learn import KerasClassifier \n",
    "from sklearn.preprocessing import LabelEncoder\n",
    "from sklearn.preprocessing import OneHotEncoder\n",
    "import random\n",
    "from sklearn import svm\n",
    "from sklearn.metrics import classification_report\n"
   ]
  },
  {
   "cell_type": "code",
   "execution_count": 2,
   "metadata": {},
   "outputs": [],
   "source": [
    "#load Data\n",
    "url = 'Dataset_Subsystem_2.csv';\n",
    "df = pd.read_csv(url, na_values='?').dropna();\n",
    "df = df.drop_duplicates(keep='first', inplace=False).reset_index(drop=True)\n",
    "df = df.sample(frac=1).reset_index(drop=True)\n",
    "#df = df.sample(frac=1)\n",
    "X = df[['palm_root_x','palm_root_y','palm_thumb_1_x','palm_thumb_1_y','palm_thumb_2_x','palm_thumb_2_y',\n",
    "           'palm_thumb_3_x','palm_thumb_3_y','palm_index_1_x','palm_index_1_y','palm_index_2_x','palm_index_2_y',\n",
    "           'palm_index_3_x','palm_index_3_y','palm_index_4_x','palm_index_4_y','palm_middle_1_x','palm_middle_1_y',\n",
    "           'palm_middle_2_x','palm_middle_2_y','palm_middle_3_x','palm_middle_3_y','palm_middle_4_x','palm_middle_4_y',\n",
    "           'palm_ring_1_x','palm_ring_1_y','palm_ring_2_x','palm_ring_2_y','palm_ring_3_x','palm_ring_3_y','palm_ring_4_x',\n",
    "           'palm_ring_4_y','palm_pinky_1_x','palm_pinky_1_y','palm_pinky_2_x','palm_pinky_2_y','palm_pinky_3_x','palm_pinky_3_y',\n",
    "           'palm_pinky_4_x','palm_pinky_4_y','dorsal_root_x','dorsal_root_y','dorsal_thumb_1_x','dorsal_thumb_1_y','dorsal_thumb_2_x',\n",
    "           'dorsal_thumb_2_y','dorsal_thumb_3_x','dorsal_thumb_3_y','dorsal_index_1_x','dorsal_index_1_y','dorsal_index_2_x','dorsal_index_2_y',\n",
    "           'dorsal_index_3_x','dorsal_index_3_y','dorsal_index_4_x','dorsal_index_4_y','dorsal_middle_1_x','dorsal_middle_1_y','dorsal_middle_2_x',\n",
    "           'dorsal_middle_2_y','dorsal_middle_3_x','dorsal_middle_3_y','dorsal_middle_4_x','dorsal_middle_4_y','dorsal_ring_1_x','dorsal_ring_1_y',\n",
    "           'dorsal_ring_2_x','dorsal_ring_2_y','dorsal_ring_3_x','dorsal_ring_3_y','dorsal_ring_4_x','dorsal_ring_4_y','dorsal_pinky_1_x','dorsal_pinky_1_y',\n",
    "           'dorsal_pinky_2_x','dorsal_pinky_2_y','dorsal_pinky_3_x','dorsal_pinky_3_y','dorsal_pinky_4_x','dorsal_pinky_4_y']];\n",
    "\n",
    "df['label'] = df.apply(lambda row: row.camera_facing_side + row.gesture, axis = 1)\n",
    "y = df[\"label\"]\n",
    "\n",
    "#values = np.array(y)\n",
    "#label_encoder = LabelEncoder()\n",
    "#integer_encoded = label_encoder.fit_transform(values)\n",
    "#onehot_encoder = OneHotEncoder(sparse=False)\n",
    "#integer_encoded = integer_encoded.reshape(len(integer_encoded), 1)\n",
    "#y_onehot_encoded = onehot_encoder.fit_transform(integer_encoded)  \n"
   ]
  },
  {
   "cell_type": "code",
   "execution_count": 3,
   "metadata": {},
   "outputs": [],
   "source": [
    "def getScore(Xtrain,ytrain,Xtest,ytest):\n",
    "    X = tf.keras.layers.Input(shape=(Xtrain.shape[1],))\n",
    "    linear = tf.keras.layers.Dense(10)(X)\n",
    "    softmax = tf.math.softmax(linear)\n",
    "    model = tf.keras.models.Model(inputs=Xtrain, outputs=softmax)\n",
    "\n",
    "    model.compile(optimizer=tf.keras.optimizers.SGD(learning_rate=1e-4),\n",
    "              loss=tf.keras.losses.CategoricalCrossentropy(),\n",
    "              metrics=[tf.keras.metrics.CategoricalAccuracy()]\n",
    "             )\n",
    "\n",
    "\n",
    "# perform gradient descent / train\n",
    "    model.fit(x=Xtrain,\n",
    "              y=ytrain_encoded,\n",
    "              batch_size=X_train.shape[0],\n",
    "              epochs=1\n",
    "         )\n",
    "    \n",
    "# evaluate the test accuracy\n",
    "    _, test_accuracy = model.evaluate(Xtest, ytest_encoded, verbose = 0)\n",
    "    print(f\"The test accuracy is {test_accuracy * 100}%\")\n",
    "\n",
    "    return model.score(Xtest,ytest_encoded)\n",
    "\n",
    "    "
   ]
  },
  {
   "cell_type": "code",
   "execution_count": 4,
   "metadata": {},
   "outputs": [],
   "source": [
    "def getScore_new(Xtrain,ytrain,Xtest,ytest):\n",
    "    model = svm.SVC(kernel='linear') # Linear Kernel\n",
    "    #Train the model using the training sets\n",
    "    model.fit(Xtrain, ytrain)\n",
    "    #ypred = model.predict(Xtest)\n",
    "    #print(ypred)\n",
    "    \n",
    "    #Predict the response for test dataset\n",
    "    return model.score(Xtest,ytest)"
   ]
  },
  {
   "cell_type": "code",
   "execution_count": 29,
   "metadata": {},
   "outputs": [
    {
     "name": "stdout",
     "output_type": "stream",
     "text": [
      "1.0\n"
     ]
    }
   ],
   "source": [
    "#ten fold cross validation\n",
    "kf = KFold(n_splits = 10) \n",
    "kf.get_n_splits(X)\n",
    "K_score = [];\n",
    "for train_index, test_index in kf.split(X):\n",
    "        Xtrain, Xtest = X.loc[train_index], X.loc[test_index]\n",
    "        ytrain, ytest = y.loc[train_index], y.loc[test_index]\n",
    "        K_score.append(getScore_new(Xtrain,ytrain,Xtest,ytest))\n",
    "        #getScore_new(Xtrain,ytrain,Xtest,ytest)\n",
    "        #print(K_score)\n",
    "print(np.mean(K_score))\n",
    "        "
   ]
  },
  {
   "cell_type": "code",
   "execution_count": 27,
   "metadata": {},
   "outputs": [],
   "source": [
    "def test_unseen():\n",
    "    train_x = X[:25]\n",
    "    test_x = X.tail(1000)\n",
    "    \n",
    "    train_y = y[:25]\n",
    "    test_y = y.tail(1000)\n",
    "    #print(train_x[:10])\n",
    "    #print(test_x[:10])\n",
    "    #print(train_y[:10])\n",
    "    #print(test_y[:10])\n",
    "    model = svm.SVC(kernel='linear') # Linear Kernel\n",
    "    #Train the model using the training sets\n",
    "    model.fit(train_x, train_y)\n",
    "    y_pred = model.predict(test_x)\n",
    "    \n",
    "    #print(y_pred)\n",
    "    #print(\"-----------------\")\n",
    "    #print(test_y)\n",
    "    #print('-----------------')\n",
    "    print(classification_report(test_y,y_pred))"
   ]
  },
  {
   "cell_type": "code",
   "execution_count": 28,
   "metadata": {},
   "outputs": [
    {
     "name": "stdout",
     "output_type": "stream",
     "text": [
      "                     precision    recall  f1-score   support\n",
      "\n",
      "         fistdorsal       0.99      0.96      0.97       164\n",
      "           fistpalm       1.00      0.97      0.98       156\n",
      "         opendorsal       0.96      1.00      0.98       195\n",
      "           openpalm       0.95      1.00      0.97       176\n",
      "three_fingersdorsal       0.96      0.93      0.94       175\n",
      "  three_fingerspalm       1.00      0.99      0.99       134\n",
      "\n",
      "           accuracy                           0.97      1000\n",
      "          macro avg       0.98      0.97      0.97      1000\n",
      "       weighted avg       0.97      0.97      0.97      1000\n",
      "\n"
     ]
    }
   ],
   "source": [
    "test_unseen()"
   ]
  },
  {
   "cell_type": "code",
   "execution_count": null,
   "metadata": {},
   "outputs": [],
   "source": []
  }
 ],
 "metadata": {
  "kernelspec": {
   "display_name": "Python 3",
   "language": "python",
   "name": "python3"
  },
  "language_info": {
   "codemirror_mode": {
    "name": "ipython",
    "version": 3
   },
   "file_extension": ".py",
   "mimetype": "text/x-python",
   "name": "python",
   "nbconvert_exporter": "python",
   "pygments_lexer": "ipython3",
   "version": "3.7.6"
  }
 },
 "nbformat": 4,
 "nbformat_minor": 4
}
